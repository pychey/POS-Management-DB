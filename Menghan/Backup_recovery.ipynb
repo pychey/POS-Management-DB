{
 "cells": [
  {
   "cell_type": "markdown",
   "id": "8a7316fe",
   "metadata": {},
   "source": [
    "Backup"
   ]
  },
  {
   "cell_type": "code",
   "execution_count": null,
   "id": "bdd4a140",
   "metadata": {},
   "outputs": [],
   "source": [
    "import subprocess\n",
    "\n",
    "def backup_database(host, port, user, password, db_name, output_file):\n",
    "    command = [\n",
    "        r\"C:\\wamp64\\bin\\mysql\\mysql8.0.31\\bin\\mysqldump.exe\",\n",
    "        f\"--host={host}\",\n",
    "        f\"--port={port}\",\n",
    "        f\"--user={user}\",\n",
    "        f\"--password={password}\",\n",
    "        f\"--result-file={output_file}\",\n",
    "        db_name,\n",
    "    ]\n",
    "    \n",
    "    result = subprocess.run(command, stdout=subprocess.PIPE, stderr=subprocess.PIPE)\n",
    "    \n",
    "    if result.returncode == 0:\n",
    "        print(f\"Backup successful. File saved as {output_file}.\")\n",
    "    else:\n",
    "        print(f\"Error: {result.stderr.decode('utf-8')}\")\n",
    "\n",
    "# Example usage\n",
    "backup_database(\"maglev.proxy.rlwy.net\", 41425, \"menghan\", \"@123CADT\", \"pos_management_db\", \"D:\\\\CADT Year 2nd\\\\Term 3\\\\Database\\\\Week 12\\\\Backup\\\\pos_management_db_backup.sql\")\n"
   ]
  },
  {
   "cell_type": "markdown",
   "id": "489c2ff7",
   "metadata": {},
   "source": [
    "Backup_scheduler"
   ]
  },
  {
   "cell_type": "code",
   "execution_count": null,
   "id": "3bec7bee",
   "metadata": {},
   "outputs": [],
   "source": [
    "from datetime import datetime\n",
    "from Backup import backup_database\n",
    "\n",
    "import schedule\n",
    "import time\n",
    "\n",
    "def job():\n",
    "    timestamp = datetime.now().strftime(\"%Y-%m-%d_%H-%M-%S\")\n",
    "    backup_database(\n",
    "        \"maglev.proxy.rlwy.net\", \n",
    "        41425, \n",
    "        \"menghan\", \n",
    "        \"@123CADT\", \n",
    "        \"pos_management_db\", \n",
    "        \"D:\\\\CADT Year 2nd\\\\Term 3\\\\Database\\\\Week 12\\\\Backup\\\\pos_management_db_backup\" + timestamp + \".sql\"\n",
    "    )\n",
    " \n",
    "schedule.every(1).minute.do(job)  \n",
    "\n",
    "while True:\n",
    "    schedule.run_pending()\n",
    "    time.sleep(1)  "
   ]
  },
  {
   "cell_type": "markdown",
   "id": "987b28b4",
   "metadata": {},
   "source": [
    "Recovery"
   ]
  },
  {
   "cell_type": "code",
   "execution_count": null,
   "id": "da82ff6d",
   "metadata": {},
   "outputs": [],
   "source": [
    "import subprocess\n",
    "import mysql.connector\n",
    "def restore_database(host, port, user, password, db_name, input_file):\n",
    "    command = [\n",
    "        r\"C:\\wamp64\\bin\\mysql\\mysql8.0.31\\bin\\mysql.exe\",\n",
    "        f\"--host={host}\",\n",
    "        f\"--port={port}\",\n",
    "        f\"--user={user}\",\n",
    "        f\"--password={password}\",\n",
    "        db_name\n",
    "    ]\n",
    "\n",
    "    mysql_conn = mysql.connector.connect(\n",
    "        host=host,\n",
    "        port=port,\n",
    "        user=user,\n",
    "        password=password\n",
    "    )\n",
    "    cursor = mysql_conn.cursor()\n",
    "    cursor.execute(f\"CREATE DATABASE IF NOT EXISTS `{db_name}`\")\n",
    "    cursor.close()\n",
    "    mysql_conn.close()\n",
    "\n",
    "    with open(input_file, \"r\") as infile:\n",
    "        result = subprocess.run(command, stdin=infile, stdout=subprocess.PIPE, stderr=subprocess.PIPE)\n",
    "    \n",
    "    if result.returncode == 0:\n",
    "        print(f\"Restore successful from {input_file}.\")\n",
    "    else:\n",
    "        print(f\"Error: {result.stderr.decode('utf-8')}\")\n",
    "\n",
    "# Example usage\n",
    "restore_database(\n",
    "    \"localhost\", \n",
    "    3306, \n",
    "    \"root\", \n",
    "    \"\", \n",
    "    \"pos_management_Recovery\",\n",
    "    \"D:\\\\CADT Year 2nd\\\\Term 3\\\\Database\\\\Week 12\\\\Backup\\\\pos_management_db_backup.sql\")\n"
   ]
  }
 ],
 "metadata": {
  "language_info": {
   "name": "python"
  }
 },
 "nbformat": 4,
 "nbformat_minor": 5
}
