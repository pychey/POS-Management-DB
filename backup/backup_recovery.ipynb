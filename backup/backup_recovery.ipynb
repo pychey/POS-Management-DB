{
 "cells": [
  {
   "cell_type": "markdown",
   "id": "2e8c8ffd",
   "metadata": {},
   "source": [
    "## Introduction"
   ]
  },
  {
   "cell_type": "raw",
   "id": "0daf00ce",
   "metadata": {},
   "source": [
    "- backup.py will backup your input database in current directory\n",
    "\n",
    "- in backup, we use mysqldump command straight so it works on all OS \n",
    "  but if you run the code and it dont reconize the command, you can always change the mysqldump to full path\n",
    "  same with mysql in recovery\n",
    "\n",
    "- in recovery, we run backup file in our current directory, make sure to change file name to correct backup timestamp\n",
    "\n",
    "- you can run backup using our database then recovery in your localhost database"
   ]
  },
  {
   "cell_type": "markdown",
   "id": "cad96048",
   "metadata": {},
   "source": [
    "import.py"
   ]
  },
  {
   "cell_type": "code",
   "execution_count": 1,
   "id": "d075420d",
   "metadata": {},
   "outputs": [],
   "source": [
    "from datetime import datetime\n",
    "import time\n",
    "import subprocess\n",
    "import schedule\n",
    "import mysql.connector"
   ]
  },
  {
   "cell_type": "markdown",
   "id": "532dc9f2",
   "metadata": {},
   "source": [
    "backup.py"
   ]
  },
  {
   "cell_type": "code",
   "execution_count": null,
   "id": "7d2c8a7a",
   "metadata": {},
   "outputs": [],
   "source": [
    "def backup_database(host, port, user, password, db_name):\n",
    "    \n",
    "    timestamp = datetime.now().strftime(\"%Y%m%d_%H%M%S\")\n",
    "    backup_file = f\"backup_{timestamp}.sql\"\n",
    "\n",
    "    command = [\n",
    "        \"mysqldump\", # <-- Change This Command If on Window\n",
    "        f\"--host={host}\",\n",
    "        f\"--port={port}\",\n",
    "        f\"--user={user}\",\n",
    "        f\"--password={password}\",\n",
    "        db_name\n",
    "    ]\n",
    "\n",
    "    result = subprocess.run(command, stdout=subprocess.PIPE, stderr=subprocess.PIPE)\n",
    "\n",
    "    if result.returncode == 0:\n",
    "        with open(backup_file, 'wb') as f:\n",
    "            f.write(result.stdout)\n",
    "        print(f\"Backup successful: {backup_file}\")\n",
    "    else:\n",
    "        print(f\"Backup failed: {result.stderr.decode('utf-8')}\")\n",
    "\n",
    "# Example\n",
    "backup_database(\n",
    "    host='maglev.proxy.rlwy.net',\n",
    "    port=41425,\n",
    "    user='root',    \n",
    "    password='zfZikcmJmTfiQOQKwToHWSJbaxBpmCpW',\n",
    "    db_name='pos_management_db'\n",
    ")"
   ]
  },
  {
   "cell_type": "markdown",
   "id": "489c2ff7",
   "metadata": {},
   "source": [
    "backup_scheduler.py"
   ]
  },
  {
   "cell_type": "code",
   "execution_count": null,
   "id": "3bec7bee",
   "metadata": {},
   "outputs": [],
   "source": [
    "def job():\n",
    "    \n",
    "    backup_database(\n",
    "        \"maglev.proxy.rlwy.net\",\n",
    "        41425,\n",
    "        \"root\",\n",
    "        \"zfZikcmJmTfiQOQKwToHWSJbaxBpmCpW\",\n",
    "        \"pos_management_db\"\n",
    "    )\n",
    "\n",
    "schedule.every(1).minute.do(job)\n",
    "\n",
    "while True:\n",
    "    schedule.run_pending()\n",
    "    time.sleep(5)"
   ]
  },
  {
   "cell_type": "markdown",
   "id": "987b28b4",
   "metadata": {},
   "source": [
    "recovery.py"
   ]
  },
  {
   "cell_type": "code",
   "execution_count": null,
   "id": "da82ff6d",
   "metadata": {},
   "outputs": [],
   "source": [
    "input_file=\"backup_20250711_042503.sql\" # <-- Change With Your backup_timestamp.sql Date\n",
    "\n",
    "def restore_database(host, port, user, password, db_name):\n",
    "    command = [\n",
    "        \"mysql\", # <-- Change This Command If on Window\n",
    "        f\"--host={host}\",\n",
    "        f\"--port={port}\",\n",
    "        f\"--user={user}\"\n",
    "    ]\n",
    "\n",
    "    if password:\n",
    "        command.append(f\"--password={password}\")\n",
    "\n",
    "    command.append(db_name)\n",
    "    \n",
    "    mysql_conn = mysql.connector.connect(\n",
    "        host=host,\n",
    "        port=port,\n",
    "        user=user,\n",
    "        password=password\n",
    "    )\n",
    "    cursor = mysql_conn.cursor()\n",
    "    cursor.execute(f\"CREATE DATABASE IF NOT EXISTS `{db_name}`\")\n",
    "    cursor.close()\n",
    "    mysql_conn.close()\n",
    "\n",
    "    with open(input_file, \"r\") as infile:\n",
    "        result = subprocess.run(command, stdin=infile, stdout=subprocess.PIPE, stderr=subprocess.PIPE)\n",
    "\n",
    "    if result.returncode == 0:\n",
    "        print(f\"Restore successful from {input_file}.\")\n",
    "    else:\n",
    "        print(f\"Error: {result.stderr.decode('utf-8')}\")\n",
    "\n",
    "\n",
    "# Example\n",
    "restore_database(\n",
    "    host='maglev.proxy.rlwy.net',\n",
    "    port=41425,\n",
    "    user='root',    \n",
    "    password='zfZikcmJmTfiQOQKwToHWSJbaxBpmCpW',\n",
    "    db_name='pos_management_recovery'\n",
    ")"
   ]
  }
 ],
 "metadata": {
  "kernelspec": {
   "display_name": ".venv",
   "language": "python",
   "name": "python3"
  },
  "language_info": {
   "codemirror_mode": {
    "name": "ipython",
    "version": 3
   },
   "file_extension": ".py",
   "mimetype": "text/x-python",
   "name": "python",
   "nbconvert_exporter": "python",
   "pygments_lexer": "ipython3",
   "version": "3.13.5"
  }
 },
 "nbformat": 4,
 "nbformat_minor": 5
}
